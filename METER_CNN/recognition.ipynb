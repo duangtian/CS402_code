{
 "cells": [
  {
   "cell_type": "code",
   "execution_count": 1,
   "metadata": {},
   "outputs": [],
   "source": [
    "import tensorflow as tf\n",
    "from tensorflow.keras.models import Sequential\n",
    "from tensorflow.keras.layers import Dense, Dropout, Activation, Flatten, Conv2D, MaxPooling2D\n",
    "from tensorflow.python.keras.callbacks import TensorBoard\n",
    "import time\n",
    "import pickle"
   ]
  },
  {
   "cell_type": "code",
   "execution_count": 18,
   "metadata": {},
   "outputs": [],
   "source": [
    "x = pickle.load(open(\"x_t.pickle\",\"rb\"))\n",
    "y = pickle.load(open(\"y_t.pickle\",\"rb\"))"
   ]
  },
  {
   "cell_type": "code",
   "execution_count": 12,
   "metadata": {},
   "outputs": [],
   "source": [
    "mnist = tf.keras.datasets.mnist\n",
    "(x_train, y_train), (x_test, y_test) = mnist.load_data()\n",
    "x_train, x_test = x_train / 255.0, x_test / 255.0"
   ]
  },
  {
   "cell_type": "code",
   "execution_count": 19,
   "metadata": {},
   "outputs": [],
   "source": [
    "import matplotlib.pyplot as plt\n",
    "import numpy as np\n",
    "def rgb2gray(rgb):\n",
    "    return np.dot(rgb[...,:3], [0.2989, 0.5870, 0.1140])\n",
    "\n",
    "for i in range(len(x)):\n",
    "    x[i] = rgb2gray(x[i])\n",
    "    y[i] = np.int8(y[i])\n",
    "x = np.array(x)\n",
    "y = np.array(y)\n"
   ]
  },
  {
   "cell_type": "code",
   "execution_count": 20,
   "metadata": {},
   "outputs": [
    {
     "name": "stdout",
     "output_type": "stream",
     "text": [
      "(28, 28)\n",
      "()\n",
      "<class 'numpy.ndarray'>\n",
      "<class 'numpy.ndarray'>\n"
     ]
    },
    {
     "data": {
      "image/png": "[encoded data removed]",
      "text/plain": [
       "<Figure size 432x288 with 1 Axes>"
      ]
     },
     "metadata": {
      "needs_background": "light"
     },
     "output_type": "display_data"
    }
   ],
   "source": [
    "plt.imshow(x[3])\n",
    "print(x[0].shape)\n",
    "print(y[0].shape)\n",
    "print(type(y))\n",
    "print(type(x))"
   ]
  },
  {
   "cell_type": "code",
   "execution_count": 16,
   "metadata": {
    "scrolled": true
   },
   "outputs": [
    {
     "name": "stdout",
     "output_type": "stream",
     "text": [
      "Epoch 1/10\n",
      "60000/60000 [==============================] - 5s 85us/sample - loss: 0.2184 - acc: 0.9358\n",
      "Epoch 2/10\n",
      "60000/60000 [==============================] - 5s 79us/sample - loss: 0.0972 - acc: 0.9701\n",
      "Epoch 3/10\n",
      "60000/60000 [==============================] - 5s 75us/sample - loss: 0.0684 - acc: 0.9787\n",
      "Epoch 4/10\n",
      "60000/60000 [==============================] - 4s 75us/sample - loss: 0.0542 - acc: 0.9826\n",
      "Epoch 5/10\n",
      "60000/60000 [==============================] - 5s 80us/sample - loss: 0.0440 - acc: 0.9859\n",
      "Epoch 6/10\n",
      "60000/60000 [==============================] - 5s 77us/sample - loss: 0.0362 - acc: 0.9887\n",
      "Epoch 7/10\n",
      "60000/60000 [==============================] - 5s 77us/sample - loss: 0.0313 - acc: 0.9898\n",
      "Epoch 8/10\n",
      "60000/60000 [==============================] - 5s 78us/sample - loss: 0.0280 - acc: 0.9899\n",
      "Epoch 9/10\n",
      "60000/60000 [==============================] - 5s 80us/sample - loss: 0.0239 - acc: 0.9922\n",
      "Epoch 10/10\n",
      "60000/60000 [==============================] - 5s 86us/sample - loss: 0.0229 - acc: 0.9921\n",
      "280/280 [==============================] - 0s 228us/sample - loss: 2.9142 - acc: 0.1000\n"
     ]
    },
    {
     "data": {
      "text/plain": [
       "[2.9142303807394847, 0.1]"
      ]
     },
     "execution_count": 16,
     "metadata": {},
     "output_type": "execute_result"
    }
   ],
   "source": [
    "model = tf.keras.models.Sequential([\n",
    "  tf.keras.layers.Flatten(input_shape=(28, 28)),\n",
    "  tf.keras.layers.Dense(512, activation=tf.nn.relu),\n",
    "  tf.keras.layers.Dropout(0.2),\n",
    "  tf.keras.layers.Dense(10, activation=tf.nn.softmax)\n",
    "])\n",
    "model.compile(optimizer='adam',\n",
    "              loss='sparse_categorical_crossentropy',\n",
    "              metrics=['accuracy'])\n",
    "\n",
    "model.fit(x_train, y_train, epochs=10, callbacks=[tf.keras.callbacks.TensorBoard('logs')])\n",
    "model.evaluate(x, y)\n"
   ]
  },
  {
   "cell_type": "code",
   "execution_count": 23,
   "metadata": {},
   "outputs": [
    {
     "data": {
      "text/plain": [
       "Reusing TensorBoard on port 6006 (pid 14528), started 2 days, 2:00:00 ago. (Use '!kill 14528' to kill it.)"
      ]
     },
     "metadata": {},
     "output_type": "display_data"
    },
    {
     "data": {
      "text/html": [
       "\n",
       "        <iframe\n",
       "            width=\"100%\"\n",
       "            height=\"600\"\n",
       "            src=\"http://localhost:6006\"\n",
       "            frameborder=\"0\"\n",
       "            allowfullscreen\n",
       "        ></iframe>\n",
       "        "
      ],
      "text/plain": [
       "<IPython.lib.display.IFrame at 0x2c6162ad128>"
      ]
     },
     "metadata": {},
     "output_type": "display_data"
    }
   ],
   "source": [
    "# Load TENSORBOARD\n",
    "%load_ext tensorboard.notebook\n",
    "# Start TENSORBOARD\n",
    "%tensorboard --logdir logs"
   ]
  },
  {
   "cell_type": "code",
   "execution_count": 21,
   "metadata": {},
   "outputs": [
    {
     "name": "stdout",
     "output_type": "stream",
     "text": [
      "5\n"
     ]
    },
    {
     "data": {
      "text/plain": [
       "array([5, 6, 6, 6, 9, 8, 6, 2, 7, 5, 6, 6, 3, 6, 5, 6, 2, 3, 6, 5, 8, 3,\n",
       "       5, 3, 8, 3, 3, 3, 5, 3, 3, 8, 2, 5, 8, 6, 6, 8, 7, 5, 7, 3, 6, 2,\n",
       "       2, 3, 6, 7, 2, 6, 6, 3, 3, 6, 5, 5, 7, 2, 6, 2, 6, 2, 9, 6, 6, 6,\n",
       "       5, 2, 6, 3, 7, 5, 6, 5, 3, 6, 2, 3, 6, 7, 5, 6, 9, 6, 5, 2, 5, 5,\n",
       "       9, 3, 6, 5, 6, 3, 6, 6, 6, 5, 3, 5, 6, 6, 5, 7, 3, 8, 3, 3, 6, 6,\n",
       "       2, 7, 6, 2, 3, 3, 6, 6, 5, 6, 3, 7, 3, 2, 7, 5, 5, 5, 6, 6, 6, 6,\n",
       "       6, 7, 6, 3, 3, 5, 7, 8, 3, 3, 8, 3, 7, 3, 3, 3, 2, 6, 3, 6, 8, 3,\n",
       "       6, 3, 6, 8, 6, 8, 6, 6, 6, 3, 3, 7, 6, 7, 6, 3, 3, 2, 3, 3, 6, 8,\n",
       "       2, 2, 6, 7, 6, 6, 2, 7, 3, 3, 6, 8, 3, 3, 7, 6, 7, 3, 6, 6, 2, 8,\n",
       "       8, 8, 3, 6, 2, 6, 8, 9, 6, 6, 8, 3, 6, 3, 6, 3, 6, 6, 6, 8, 8, 6,\n",
       "       6, 8, 6, 3, 3, 8, 7, 6, 6, 8, 8, 5, 6, 2, 6, 6, 8, 5, 2, 5, 5, 6,\n",
       "       3, 7, 6, 2, 6, 3, 7, 6, 6, 6, 9, 3, 3, 3, 2, 5, 2, 7, 8, 6, 6, 6,\n",
       "       9, 6, 5, 6, 3, 6, 5, 7, 3, 6, 9, 6, 7, 6, 3, 8], dtype=int64)"
      ]
     },
     "execution_count": 21,
     "metadata": {},
     "output_type": "execute_result"
    },
    {
     "data": {
      "image/png": "[encoded data removed]",
      "text/plain": [
       "<Figure size 432x288 with 1 Axes>"
      ]
     },
     "metadata": {
      "needs_background": "light"
     },
     "output_type": "display_data"
    }
   ],
   "source": [
    "plt.imshow(x[14])\n",
    "print(y[14])\n",
    "model.predict_classes(x)"
   ]
  },
  {
   "cell_type": "code",
   "execution_count": 22,
   "metadata": {},
   "outputs": [
    {
     "name": "stdout",
     "output_type": "stream",
     "text": [
      "280/280 [==============================] - 0s 53us/sample - loss: 10.2466 - acc: 0.3607\n"
     ]
    },
    {
     "data": {
      "text/plain": [
       "[10.246554020472935, 0.3607143]"
      ]
     },
     "execution_count": 22,
     "metadata": {},
     "output_type": "execute_result"
    }
   ],
   "source": [
    "model.evaluate(x, y)"
   ]
  }
 ],
 "metadata": {
  "kernelspec": {
   "display_name": "Python 3",
   "language": "python",
   "name": "python3"
  },
  "language_info": {
   "codemirror_mode": {
    "name": "ipython",
    "version": 3
   },
   "file_extension": ".py",
   "mimetype": "text/x-python",
   "name": "python",
   "nbconvert_exporter": "python",
   "pygments_lexer": "ipython3",
   "version": "3.6.8"
  }
 },
 "nbformat": 4,
 "nbformat_minor": 2
}
